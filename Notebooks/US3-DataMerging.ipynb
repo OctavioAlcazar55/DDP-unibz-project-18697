{
 "cells": [
  {
   "cell_type": "code",
   "execution_count": 1,
   "metadata": {},
   "outputs": [],
   "source": [
    "# DEVELOPMEMT OF DATA PRODUCTS - 18697\n",
    "# US3 - DATA MERGING"
   ]
  },
  {
   "cell_type": "markdown",
   "metadata": {},
   "source": [
    "The Notebook is part of the Development of Data Products product development, with the functional objective of providing data analysis and visualization to the end user about comparisons of daily and cumulative recorded cases, for confirmed, death, or recovered patients. In addition, the Stringency Index is also included for comparison how different governments have reacted in terms of restrictions and regulations to the pandemic situation."
   ]
  },
  {
   "cell_type": "markdown",
   "metadata": {},
   "source": [
    "# Index:\n",
    "\n",
    "1. [Imported Libraries and Scripts](#import-libraries-scripts)\n",
    "2. [Reading Data Sources](#read-data)\n",
    "    1. [Daily Cases Data](#daily-data)\n",
    "    2. [Cumulative Cases Data](#cumulative-data)\n",
    "    3. [Government Response Data](#si-data)\n",
    "3. [Merging Data Sources](#merge-data)\n",
    "    1. [Aggregate and Merge Cumulative Cases Data](#merge-cumulative-data)\n",
    "    2. [Merge Government Response Data](#merge-si-data)"
   ]
  },
  {
   "cell_type": "markdown",
   "metadata": {},
   "source": [
    "## 1 Imported Libraries and Scripts <a class=\"anchor\" id=\"import-libraries-scripts\"></a>\n",
    "\n",
    "Some of the code functionalities are included in dedicated Python functions stored in an external file which gets imported to the current Notebook."
   ]
  },
  {
   "cell_type": "code",
   "execution_count": 2,
   "metadata": {},
   "outputs": [],
   "source": [
    "# Libraries\n",
    "import os\n",
    "\n",
    "import pandas as pd\n",
    "import numpy as np\n",
    "\n",
    "import time\n",
    "import random\n",
    "\n",
    "# for dates and timestamps handling\n",
    "from datetime import datetime"
   ]
  },
  {
   "cell_type": "code",
   "execution_count": 3,
   "metadata": {},
   "outputs": [],
   "source": [
    "# Scripts\n",
    "from scripts import utils"
   ]
  },
  {
   "cell_type": "markdown",
   "metadata": {},
   "source": [
    "## 2 Reading Data Sources <a class=\"anchor\" id=\"read-data\"></a>\n",
    "\n",
    "The collected data sources are under \"DDP-unibz-project-18697/ProjectDataSources\" inside the following directories:\n",
    "    \n",
    "    - csse_covid_29_data/csse_covid_19_daily_reports/ --> Daily data\n",
    "    - csse_covid_29_data/csse_covid_19_time_series/ --> Cumulative data, recovered, deaths and confirmed cases\n",
    "    - covid-policy-tracker/timeseries/ --> Stringency Index (Government response Indicator)\n",
    "    \n",
    "It is important to mention that daily data comes in the format **Month/Day/Year**, whereas columns listed in cumulative data and government response data tables have the format **Day/Month/Year**.\n",
    "\n",
    "In addition to reading the CSV files, an initial data check is performed for checking:\n",
    "\n",
    "    - That columns have the proper data types for further data manipulation\n",
    "    - How many rows and columns contain null or not available data?\n",
    "    - Which percentate of the total data is missing or unknown?\n",
    "    \n",
    "Moreover, imported data sources have columns which are not relevant for achieving the functional objective of the project and are being deleted using a simple Python function."
   ]
  },
  {
   "cell_type": "markdown",
   "metadata": {},
   "source": [
    "### A) Daily Cases Data <a class=\"anchor\" id=\"daily-data\"></a>"
   ]
  },
  {
   "cell_type": "markdown",
   "metadata": {},
   "source": [
    "Reading a particular day data from CSV file. Data gets read, cleaned and initial stats are displayed to the user."
   ]
  },
  {
   "cell_type": "code",
   "execution_count": 4,
   "metadata": {},
   "outputs": [
    {
     "name": "stdout",
     "output_type": "stream",
     "text": [
      "Removed 10 columns from dataframe\n"
     ]
    },
    {
     "data": {
      "text/html": [
       "<div>\n",
       "<style scoped>\n",
       "    .dataframe tbody tr th:only-of-type {\n",
       "        vertical-align: middle;\n",
       "    }\n",
       "\n",
       "    .dataframe tbody tr th {\n",
       "        vertical-align: top;\n",
       "    }\n",
       "\n",
       "    .dataframe thead th {\n",
       "        text-align: right;\n",
       "    }\n",
       "</style>\n",
       "<table border=\"1\" class=\"dataframe\">\n",
       "  <thead>\n",
       "    <tr style=\"text-align: right;\">\n",
       "      <th></th>\n",
       "      <th>Values</th>\n",
       "    </tr>\n",
       "  </thead>\n",
       "  <tbody>\n",
       "    <tr>\n",
       "      <th># Rows</th>\n",
       "      <td>4012.000</td>\n",
       "    </tr>\n",
       "    <tr>\n",
       "      <th># Columns</th>\n",
       "      <td>4.000</td>\n",
       "    </tr>\n",
       "    <tr>\n",
       "      <th># Rows with NAs</th>\n",
       "      <td>4010.000</td>\n",
       "    </tr>\n",
       "    <tr>\n",
       "      <th># Columns with NAs</th>\n",
       "      <td>1.000</td>\n",
       "    </tr>\n",
       "    <tr>\n",
       "      <th>% Null Values in Dataframe</th>\n",
       "      <td>24.988</td>\n",
       "    </tr>\n",
       "  </tbody>\n",
       "</table>\n",
       "</div>"
      ],
      "text/plain": [
       "                              Values\n",
       "# Rows                      4012.000\n",
       "# Columns                      4.000\n",
       "# Rows with NAs             4010.000\n",
       "# Columns with NAs             1.000\n",
       "% Null Values in Dataframe    24.988"
      ]
     },
     "execution_count": 4,
     "metadata": {},
     "output_type": "execute_result"
    }
   ],
   "source": [
    "file_path = \"../ProjectDataSources/csse_covid_19_data/\" + \\\n",
    "            \"csse_covid_19_daily_reports/03-10-2022.csv\"\n",
    "\n",
    "daily_df = utils.read_data(file_path)\n",
    "daily_df = utils.drop_columns(daily_df, data_source=\"daily\")\n",
    "\n",
    "utils.initial_dataframe_check(daily_df)"
   ]
  },
  {
   "cell_type": "code",
   "execution_count": 5,
   "metadata": {},
   "outputs": [
    {
     "data": {
      "text/html": [
       "<div>\n",
       "<style scoped>\n",
       "    .dataframe tbody tr th:only-of-type {\n",
       "        vertical-align: middle;\n",
       "    }\n",
       "\n",
       "    .dataframe tbody tr th {\n",
       "        vertical-align: top;\n",
       "    }\n",
       "\n",
       "    .dataframe thead th {\n",
       "        text-align: right;\n",
       "    }\n",
       "</style>\n",
       "<table border=\"1\" class=\"dataframe\">\n",
       "  <thead>\n",
       "    <tr style=\"text-align: right;\">\n",
       "      <th></th>\n",
       "      <th>Country_Region</th>\n",
       "      <th>Confirmed</th>\n",
       "      <th>Deaths</th>\n",
       "      <th>Recovered</th>\n",
       "    </tr>\n",
       "  </thead>\n",
       "  <tbody>\n",
       "    <tr>\n",
       "      <th>0</th>\n",
       "      <td>Afghanistan</td>\n",
       "      <td>175893</td>\n",
       "      <td>7639</td>\n",
       "      <td>NaN</td>\n",
       "    </tr>\n",
       "    <tr>\n",
       "      <th>1</th>\n",
       "      <td>Albania</td>\n",
       "      <td>272479</td>\n",
       "      <td>3484</td>\n",
       "      <td>NaN</td>\n",
       "    </tr>\n",
       "    <tr>\n",
       "      <th>2</th>\n",
       "      <td>Algeria</td>\n",
       "      <td>265366</td>\n",
       "      <td>6861</td>\n",
       "      <td>NaN</td>\n",
       "    </tr>\n",
       "    <tr>\n",
       "      <th>3</th>\n",
       "      <td>Andorra</td>\n",
       "      <td>38794</td>\n",
       "      <td>152</td>\n",
       "      <td>NaN</td>\n",
       "    </tr>\n",
       "    <tr>\n",
       "      <th>4</th>\n",
       "      <td>Angola</td>\n",
       "      <td>98855</td>\n",
       "      <td>1900</td>\n",
       "      <td>NaN</td>\n",
       "    </tr>\n",
       "  </tbody>\n",
       "</table>\n",
       "</div>"
      ],
      "text/plain": [
       "  Country_Region  Confirmed  Deaths  Recovered\n",
       "0    Afghanistan     175893    7639        NaN\n",
       "1        Albania     272479    3484        NaN\n",
       "2        Algeria     265366    6861        NaN\n",
       "3        Andorra      38794     152        NaN\n",
       "4         Angola      98855    1900        NaN"
      ]
     },
     "execution_count": 5,
     "metadata": {},
     "output_type": "execute_result"
    }
   ],
   "source": [
    "daily_df.head()"
   ]
  },
  {
   "cell_type": "code",
   "execution_count": 6,
   "metadata": {},
   "outputs": [
    {
     "name": "stdout",
     "output_type": "stream",
     "text": [
      "How many countries in the list ?  199\n"
     ]
    }
   ],
   "source": [
    "number_unique_countries = len(np.unique(daily_df[\"Country_Region\"]))\n",
    "print(\"How many countries in the list ? \", number_unique_countries)"
   ]
  },
  {
   "cell_type": "markdown",
   "metadata": {},
   "source": [
    "Also, the country names are going to be reviewed in further stages."
   ]
  },
  {
   "cell_type": "markdown",
   "metadata": {},
   "source": [
    "### B) Cumulative Cases Data <a class=\"anchor\" id=\"cumulative-data\"></a>"
   ]
  },
  {
   "cell_type": "markdown",
   "metadata": {},
   "source": [
    "Cumulative data is composed of three different timeseries:\n",
    "\n",
    "    - global confirmed cases\n",
    "    - global deaths cases\n",
    "    - global recovered cases\n",
    "\n",
    "Follow same commands used for daily data."
   ]
  },
  {
   "cell_type": "markdown",
   "metadata": {},
   "source": [
    "#### Confirmed Cases"
   ]
  },
  {
   "cell_type": "code",
   "execution_count": 7,
   "metadata": {},
   "outputs": [
    {
     "name": "stdout",
     "output_type": "stream",
     "text": [
      "Removed 3 columns from dataframe\n"
     ]
    },
    {
     "data": {
      "text/html": [
       "<div>\n",
       "<style scoped>\n",
       "    .dataframe tbody tr th:only-of-type {\n",
       "        vertical-align: middle;\n",
       "    }\n",
       "\n",
       "    .dataframe tbody tr th {\n",
       "        vertical-align: top;\n",
       "    }\n",
       "\n",
       "    .dataframe thead th {\n",
       "        text-align: right;\n",
       "    }\n",
       "</style>\n",
       "<table border=\"1\" class=\"dataframe\">\n",
       "  <thead>\n",
       "    <tr style=\"text-align: right;\">\n",
       "      <th></th>\n",
       "      <th>Values</th>\n",
       "    </tr>\n",
       "  </thead>\n",
       "  <tbody>\n",
       "    <tr>\n",
       "      <th># Rows</th>\n",
       "      <td>285.0</td>\n",
       "    </tr>\n",
       "    <tr>\n",
       "      <th># Columns</th>\n",
       "      <td>943.0</td>\n",
       "    </tr>\n",
       "    <tr>\n",
       "      <th># Rows with NAs</th>\n",
       "      <td>0.0</td>\n",
       "    </tr>\n",
       "    <tr>\n",
       "      <th># Columns with NAs</th>\n",
       "      <td>0.0</td>\n",
       "    </tr>\n",
       "    <tr>\n",
       "      <th>% Null Values in Dataframe</th>\n",
       "      <td>0.0</td>\n",
       "    </tr>\n",
       "  </tbody>\n",
       "</table>\n",
       "</div>"
      ],
      "text/plain": [
       "                            Values\n",
       "# Rows                       285.0\n",
       "# Columns                    943.0\n",
       "# Rows with NAs                0.0\n",
       "# Columns with NAs             0.0\n",
       "% Null Values in Dataframe     0.0"
      ]
     },
     "execution_count": 7,
     "metadata": {},
     "output_type": "execute_result"
    }
   ],
   "source": [
    "file_path = \"../ProjectDataSources/csse_covid_19_data/\" + \\\n",
    "            \"csse_covid_19_time_series/time_series_covid19_confirmed_global.csv\"\n",
    "\n",
    "confirmed_df = utils.read_data(file_path)\n",
    "confirmed_df = utils.drop_columns(confirmed_df, data_source=\"cumulative\")\n",
    "\n",
    "utils.initial_dataframe_check(confirmed_df)"
   ]
  },
  {
   "cell_type": "code",
   "execution_count": 8,
   "metadata": {},
   "outputs": [
    {
     "data": {
      "text/html": [
       "<div>\n",
       "<style scoped>\n",
       "    .dataframe tbody tr th:only-of-type {\n",
       "        vertical-align: middle;\n",
       "    }\n",
       "\n",
       "    .dataframe tbody tr th {\n",
       "        vertical-align: top;\n",
       "    }\n",
       "\n",
       "    .dataframe thead th {\n",
       "        text-align: right;\n",
       "    }\n",
       "</style>\n",
       "<table border=\"1\" class=\"dataframe\">\n",
       "  <thead>\n",
       "    <tr style=\"text-align: right;\">\n",
       "      <th></th>\n",
       "      <th>Country/Region</th>\n",
       "      <th>1/22/20</th>\n",
       "      <th>1/23/20</th>\n",
       "      <th>1/24/20</th>\n",
       "      <th>1/25/20</th>\n",
       "      <th>1/26/20</th>\n",
       "      <th>1/27/20</th>\n",
       "      <th>1/28/20</th>\n",
       "      <th>1/29/20</th>\n",
       "      <th>1/30/20</th>\n",
       "      <th>...</th>\n",
       "      <th>8/11/22</th>\n",
       "      <th>8/12/22</th>\n",
       "      <th>8/13/22</th>\n",
       "      <th>8/14/22</th>\n",
       "      <th>8/15/22</th>\n",
       "      <th>8/16/22</th>\n",
       "      <th>8/17/22</th>\n",
       "      <th>8/18/22</th>\n",
       "      <th>8/19/22</th>\n",
       "      <th>8/20/22</th>\n",
       "    </tr>\n",
       "  </thead>\n",
       "  <tbody>\n",
       "    <tr>\n",
       "      <th>0</th>\n",
       "      <td>Afghanistan</td>\n",
       "      <td>0</td>\n",
       "      <td>0</td>\n",
       "      <td>0</td>\n",
       "      <td>0</td>\n",
       "      <td>0</td>\n",
       "      <td>0</td>\n",
       "      <td>0</td>\n",
       "      <td>0</td>\n",
       "      <td>0</td>\n",
       "      <td>...</td>\n",
       "      <td>188506</td>\n",
       "      <td>188704</td>\n",
       "      <td>188820</td>\n",
       "      <td>189045</td>\n",
       "      <td>189343</td>\n",
       "      <td>189477</td>\n",
       "      <td>189710</td>\n",
       "      <td>190010</td>\n",
       "      <td>190254</td>\n",
       "      <td>190435</td>\n",
       "    </tr>\n",
       "    <tr>\n",
       "      <th>1</th>\n",
       "      <td>Albania</td>\n",
       "      <td>0</td>\n",
       "      <td>0</td>\n",
       "      <td>0</td>\n",
       "      <td>0</td>\n",
       "      <td>0</td>\n",
       "      <td>0</td>\n",
       "      <td>0</td>\n",
       "      <td>0</td>\n",
       "      <td>0</td>\n",
       "      <td>...</td>\n",
       "      <td>320086</td>\n",
       "      <td>320781</td>\n",
       "      <td>321345</td>\n",
       "      <td>321804</td>\n",
       "      <td>322125</td>\n",
       "      <td>322837</td>\n",
       "      <td>323282</td>\n",
       "      <td>323829</td>\n",
       "      <td>325241</td>\n",
       "      <td>325736</td>\n",
       "    </tr>\n",
       "    <tr>\n",
       "      <th>2</th>\n",
       "      <td>Algeria</td>\n",
       "      <td>0</td>\n",
       "      <td>0</td>\n",
       "      <td>0</td>\n",
       "      <td>0</td>\n",
       "      <td>0</td>\n",
       "      <td>0</td>\n",
       "      <td>0</td>\n",
       "      <td>0</td>\n",
       "      <td>0</td>\n",
       "      <td>...</td>\n",
       "      <td>268718</td>\n",
       "      <td>268866</td>\n",
       "      <td>269008</td>\n",
       "      <td>269141</td>\n",
       "      <td>269269</td>\n",
       "      <td>269381</td>\n",
       "      <td>269473</td>\n",
       "      <td>269556</td>\n",
       "      <td>269650</td>\n",
       "      <td>269731</td>\n",
       "    </tr>\n",
       "    <tr>\n",
       "      <th>3</th>\n",
       "      <td>Andorra</td>\n",
       "      <td>0</td>\n",
       "      <td>0</td>\n",
       "      <td>0</td>\n",
       "      <td>0</td>\n",
       "      <td>0</td>\n",
       "      <td>0</td>\n",
       "      <td>0</td>\n",
       "      <td>0</td>\n",
       "      <td>0</td>\n",
       "      <td>...</td>\n",
       "      <td>45899</td>\n",
       "      <td>45899</td>\n",
       "      <td>45899</td>\n",
       "      <td>45899</td>\n",
       "      <td>45899</td>\n",
       "      <td>45899</td>\n",
       "      <td>45975</td>\n",
       "      <td>45975</td>\n",
       "      <td>45975</td>\n",
       "      <td>45975</td>\n",
       "    </tr>\n",
       "    <tr>\n",
       "      <th>4</th>\n",
       "      <td>Angola</td>\n",
       "      <td>0</td>\n",
       "      <td>0</td>\n",
       "      <td>0</td>\n",
       "      <td>0</td>\n",
       "      <td>0</td>\n",
       "      <td>0</td>\n",
       "      <td>0</td>\n",
       "      <td>0</td>\n",
       "      <td>0</td>\n",
       "      <td>...</td>\n",
       "      <td>102636</td>\n",
       "      <td>102636</td>\n",
       "      <td>102636</td>\n",
       "      <td>102636</td>\n",
       "      <td>102636</td>\n",
       "      <td>102636</td>\n",
       "      <td>102636</td>\n",
       "      <td>102636</td>\n",
       "      <td>102636</td>\n",
       "      <td>102636</td>\n",
       "    </tr>\n",
       "  </tbody>\n",
       "</table>\n",
       "<p>5 rows × 943 columns</p>\n",
       "</div>"
      ],
      "text/plain": [
       "  Country/Region  1/22/20  1/23/20  1/24/20  1/25/20  1/26/20  1/27/20  \\\n",
       "0    Afghanistan        0        0        0        0        0        0   \n",
       "1        Albania        0        0        0        0        0        0   \n",
       "2        Algeria        0        0        0        0        0        0   \n",
       "3        Andorra        0        0        0        0        0        0   \n",
       "4         Angola        0        0        0        0        0        0   \n",
       "\n",
       "   1/28/20  1/29/20  1/30/20  ...  8/11/22  8/12/22  8/13/22  8/14/22  \\\n",
       "0        0        0        0  ...   188506   188704   188820   189045   \n",
       "1        0        0        0  ...   320086   320781   321345   321804   \n",
       "2        0        0        0  ...   268718   268866   269008   269141   \n",
       "3        0        0        0  ...    45899    45899    45899    45899   \n",
       "4        0        0        0  ...   102636   102636   102636   102636   \n",
       "\n",
       "   8/15/22  8/16/22  8/17/22  8/18/22  8/19/22  8/20/22  \n",
       "0   189343   189477   189710   190010   190254   190435  \n",
       "1   322125   322837   323282   323829   325241   325736  \n",
       "2   269269   269381   269473   269556   269650   269731  \n",
       "3    45899    45899    45975    45975    45975    45975  \n",
       "4   102636   102636   102636   102636   102636   102636  \n",
       "\n",
       "[5 rows x 943 columns]"
      ]
     },
     "execution_count": 8,
     "metadata": {},
     "output_type": "execute_result"
    }
   ],
   "source": [
    "confirmed_df.head()"
   ]
  },
  {
   "cell_type": "markdown",
   "metadata": {},
   "source": [
    "#### Death Cases"
   ]
  },
  {
   "cell_type": "code",
   "execution_count": 9,
   "metadata": {},
   "outputs": [
    {
     "name": "stdout",
     "output_type": "stream",
     "text": [
      "Removed 3 columns from dataframe\n"
     ]
    },
    {
     "data": {
      "text/html": [
       "<div>\n",
       "<style scoped>\n",
       "    .dataframe tbody tr th:only-of-type {\n",
       "        vertical-align: middle;\n",
       "    }\n",
       "\n",
       "    .dataframe tbody tr th {\n",
       "        vertical-align: top;\n",
       "    }\n",
       "\n",
       "    .dataframe thead th {\n",
       "        text-align: right;\n",
       "    }\n",
       "</style>\n",
       "<table border=\"1\" class=\"dataframe\">\n",
       "  <thead>\n",
       "    <tr style=\"text-align: right;\">\n",
       "      <th></th>\n",
       "      <th>Values</th>\n",
       "    </tr>\n",
       "  </thead>\n",
       "  <tbody>\n",
       "    <tr>\n",
       "      <th># Rows</th>\n",
       "      <td>285.0</td>\n",
       "    </tr>\n",
       "    <tr>\n",
       "      <th># Columns</th>\n",
       "      <td>943.0</td>\n",
       "    </tr>\n",
       "    <tr>\n",
       "      <th># Rows with NAs</th>\n",
       "      <td>0.0</td>\n",
       "    </tr>\n",
       "    <tr>\n",
       "      <th># Columns with NAs</th>\n",
       "      <td>0.0</td>\n",
       "    </tr>\n",
       "    <tr>\n",
       "      <th>% Null Values in Dataframe</th>\n",
       "      <td>0.0</td>\n",
       "    </tr>\n",
       "  </tbody>\n",
       "</table>\n",
       "</div>"
      ],
      "text/plain": [
       "                            Values\n",
       "# Rows                       285.0\n",
       "# Columns                    943.0\n",
       "# Rows with NAs                0.0\n",
       "# Columns with NAs             0.0\n",
       "% Null Values in Dataframe     0.0"
      ]
     },
     "execution_count": 9,
     "metadata": {},
     "output_type": "execute_result"
    }
   ],
   "source": [
    "file_path = \"../ProjectDataSources/csse_covid_19_data/\" + \\\n",
    "            \"csse_covid_19_time_series/time_series_covid19_deaths_global.csv\"\n",
    "\n",
    "deaths_df = utils.read_data(file_path)\n",
    "deaths_df = utils.drop_columns(deaths_df, data_source=\"cumulative\")\n",
    "\n",
    "utils.initial_dataframe_check(deaths_df)"
   ]
  },
  {
   "cell_type": "code",
   "execution_count": 10,
   "metadata": {},
   "outputs": [
    {
     "data": {
      "text/html": [
       "<div>\n",
       "<style scoped>\n",
       "    .dataframe tbody tr th:only-of-type {\n",
       "        vertical-align: middle;\n",
       "    }\n",
       "\n",
       "    .dataframe tbody tr th {\n",
       "        vertical-align: top;\n",
       "    }\n",
       "\n",
       "    .dataframe thead th {\n",
       "        text-align: right;\n",
       "    }\n",
       "</style>\n",
       "<table border=\"1\" class=\"dataframe\">\n",
       "  <thead>\n",
       "    <tr style=\"text-align: right;\">\n",
       "      <th></th>\n",
       "      <th>Country/Region</th>\n",
       "      <th>1/22/20</th>\n",
       "      <th>1/23/20</th>\n",
       "      <th>1/24/20</th>\n",
       "      <th>1/25/20</th>\n",
       "      <th>1/26/20</th>\n",
       "      <th>1/27/20</th>\n",
       "      <th>1/28/20</th>\n",
       "      <th>1/29/20</th>\n",
       "      <th>1/30/20</th>\n",
       "      <th>...</th>\n",
       "      <th>8/11/22</th>\n",
       "      <th>8/12/22</th>\n",
       "      <th>8/13/22</th>\n",
       "      <th>8/14/22</th>\n",
       "      <th>8/15/22</th>\n",
       "      <th>8/16/22</th>\n",
       "      <th>8/17/22</th>\n",
       "      <th>8/18/22</th>\n",
       "      <th>8/19/22</th>\n",
       "      <th>8/20/22</th>\n",
       "    </tr>\n",
       "  </thead>\n",
       "  <tbody>\n",
       "    <tr>\n",
       "      <th>0</th>\n",
       "      <td>Afghanistan</td>\n",
       "      <td>0</td>\n",
       "      <td>0</td>\n",
       "      <td>0</td>\n",
       "      <td>0</td>\n",
       "      <td>0</td>\n",
       "      <td>0</td>\n",
       "      <td>0</td>\n",
       "      <td>0</td>\n",
       "      <td>0</td>\n",
       "      <td>...</td>\n",
       "      <td>7755</td>\n",
       "      <td>7755</td>\n",
       "      <td>7758</td>\n",
       "      <td>7758</td>\n",
       "      <td>7759</td>\n",
       "      <td>7759</td>\n",
       "      <td>7759</td>\n",
       "      <td>7759</td>\n",
       "      <td>7759</td>\n",
       "      <td>7759</td>\n",
       "    </tr>\n",
       "    <tr>\n",
       "      <th>1</th>\n",
       "      <td>Albania</td>\n",
       "      <td>0</td>\n",
       "      <td>0</td>\n",
       "      <td>0</td>\n",
       "      <td>0</td>\n",
       "      <td>0</td>\n",
       "      <td>0</td>\n",
       "      <td>0</td>\n",
       "      <td>0</td>\n",
       "      <td>0</td>\n",
       "      <td>...</td>\n",
       "      <td>3568</td>\n",
       "      <td>3569</td>\n",
       "      <td>3570</td>\n",
       "      <td>3571</td>\n",
       "      <td>3571</td>\n",
       "      <td>3573</td>\n",
       "      <td>3574</td>\n",
       "      <td>3574</td>\n",
       "      <td>3575</td>\n",
       "      <td>3576</td>\n",
       "    </tr>\n",
       "    <tr>\n",
       "      <th>2</th>\n",
       "      <td>Algeria</td>\n",
       "      <td>0</td>\n",
       "      <td>0</td>\n",
       "      <td>0</td>\n",
       "      <td>0</td>\n",
       "      <td>0</td>\n",
       "      <td>0</td>\n",
       "      <td>0</td>\n",
       "      <td>0</td>\n",
       "      <td>0</td>\n",
       "      <td>...</td>\n",
       "      <td>6878</td>\n",
       "      <td>6878</td>\n",
       "      <td>6878</td>\n",
       "      <td>6878</td>\n",
       "      <td>6878</td>\n",
       "      <td>6878</td>\n",
       "      <td>6878</td>\n",
       "      <td>6878</td>\n",
       "      <td>6878</td>\n",
       "      <td>6878</td>\n",
       "    </tr>\n",
       "    <tr>\n",
       "      <th>3</th>\n",
       "      <td>Andorra</td>\n",
       "      <td>0</td>\n",
       "      <td>0</td>\n",
       "      <td>0</td>\n",
       "      <td>0</td>\n",
       "      <td>0</td>\n",
       "      <td>0</td>\n",
       "      <td>0</td>\n",
       "      <td>0</td>\n",
       "      <td>0</td>\n",
       "      <td>...</td>\n",
       "      <td>154</td>\n",
       "      <td>154</td>\n",
       "      <td>154</td>\n",
       "      <td>154</td>\n",
       "      <td>154</td>\n",
       "      <td>154</td>\n",
       "      <td>154</td>\n",
       "      <td>154</td>\n",
       "      <td>154</td>\n",
       "      <td>154</td>\n",
       "    </tr>\n",
       "    <tr>\n",
       "      <th>4</th>\n",
       "      <td>Angola</td>\n",
       "      <td>0</td>\n",
       "      <td>0</td>\n",
       "      <td>0</td>\n",
       "      <td>0</td>\n",
       "      <td>0</td>\n",
       "      <td>0</td>\n",
       "      <td>0</td>\n",
       "      <td>0</td>\n",
       "      <td>0</td>\n",
       "      <td>...</td>\n",
       "      <td>1917</td>\n",
       "      <td>1917</td>\n",
       "      <td>1917</td>\n",
       "      <td>1917</td>\n",
       "      <td>1917</td>\n",
       "      <td>1917</td>\n",
       "      <td>1917</td>\n",
       "      <td>1917</td>\n",
       "      <td>1917</td>\n",
       "      <td>1917</td>\n",
       "    </tr>\n",
       "  </tbody>\n",
       "</table>\n",
       "<p>5 rows × 943 columns</p>\n",
       "</div>"
      ],
      "text/plain": [
       "  Country/Region  1/22/20  1/23/20  1/24/20  1/25/20  1/26/20  1/27/20  \\\n",
       "0    Afghanistan        0        0        0        0        0        0   \n",
       "1        Albania        0        0        0        0        0        0   \n",
       "2        Algeria        0        0        0        0        0        0   \n",
       "3        Andorra        0        0        0        0        0        0   \n",
       "4         Angola        0        0        0        0        0        0   \n",
       "\n",
       "   1/28/20  1/29/20  1/30/20  ...  8/11/22  8/12/22  8/13/22  8/14/22  \\\n",
       "0        0        0        0  ...     7755     7755     7758     7758   \n",
       "1        0        0        0  ...     3568     3569     3570     3571   \n",
       "2        0        0        0  ...     6878     6878     6878     6878   \n",
       "3        0        0        0  ...      154      154      154      154   \n",
       "4        0        0        0  ...     1917     1917     1917     1917   \n",
       "\n",
       "   8/15/22  8/16/22  8/17/22  8/18/22  8/19/22  8/20/22  \n",
       "0     7759     7759     7759     7759     7759     7759  \n",
       "1     3571     3573     3574     3574     3575     3576  \n",
       "2     6878     6878     6878     6878     6878     6878  \n",
       "3      154      154      154      154      154      154  \n",
       "4     1917     1917     1917     1917     1917     1917  \n",
       "\n",
       "[5 rows x 943 columns]"
      ]
     },
     "execution_count": 10,
     "metadata": {},
     "output_type": "execute_result"
    }
   ],
   "source": [
    "deaths_df.head()"
   ]
  },
  {
   "cell_type": "markdown",
   "metadata": {},
   "source": [
    "#### Recovered Cases"
   ]
  },
  {
   "cell_type": "code",
   "execution_count": 11,
   "metadata": {},
   "outputs": [
    {
     "name": "stdout",
     "output_type": "stream",
     "text": [
      "Removed 3 columns from dataframe\n"
     ]
    },
    {
     "data": {
      "text/html": [
       "<div>\n",
       "<style scoped>\n",
       "    .dataframe tbody tr th:only-of-type {\n",
       "        vertical-align: middle;\n",
       "    }\n",
       "\n",
       "    .dataframe tbody tr th {\n",
       "        vertical-align: top;\n",
       "    }\n",
       "\n",
       "    .dataframe thead th {\n",
       "        text-align: right;\n",
       "    }\n",
       "</style>\n",
       "<table border=\"1\" class=\"dataframe\">\n",
       "  <thead>\n",
       "    <tr style=\"text-align: right;\">\n",
       "      <th></th>\n",
       "      <th>Values</th>\n",
       "    </tr>\n",
       "  </thead>\n",
       "  <tbody>\n",
       "    <tr>\n",
       "      <th># Rows</th>\n",
       "      <td>270.0</td>\n",
       "    </tr>\n",
       "    <tr>\n",
       "      <th># Columns</th>\n",
       "      <td>943.0</td>\n",
       "    </tr>\n",
       "    <tr>\n",
       "      <th># Rows with NAs</th>\n",
       "      <td>0.0</td>\n",
       "    </tr>\n",
       "    <tr>\n",
       "      <th># Columns with NAs</th>\n",
       "      <td>0.0</td>\n",
       "    </tr>\n",
       "    <tr>\n",
       "      <th>% Null Values in Dataframe</th>\n",
       "      <td>0.0</td>\n",
       "    </tr>\n",
       "  </tbody>\n",
       "</table>\n",
       "</div>"
      ],
      "text/plain": [
       "                            Values\n",
       "# Rows                       270.0\n",
       "# Columns                    943.0\n",
       "# Rows with NAs                0.0\n",
       "# Columns with NAs             0.0\n",
       "% Null Values in Dataframe     0.0"
      ]
     },
     "execution_count": 11,
     "metadata": {},
     "output_type": "execute_result"
    }
   ],
   "source": [
    "file_path = \"../ProjectDataSources/csse_covid_19_data/\" + \\\n",
    "            \"csse_covid_19_time_series/time_series_covid19_recovered_global.csv\"\n",
    "\n",
    "recovered_df = utils.read_data(file_path)\n",
    "recovered_df = utils.drop_columns(recovered_df, data_source=\"cumulative\")\n",
    "\n",
    "utils.initial_dataframe_check(recovered_df)"
   ]
  },
  {
   "cell_type": "code",
   "execution_count": 12,
   "metadata": {},
   "outputs": [
    {
     "data": {
      "text/html": [
       "<div>\n",
       "<style scoped>\n",
       "    .dataframe tbody tr th:only-of-type {\n",
       "        vertical-align: middle;\n",
       "    }\n",
       "\n",
       "    .dataframe tbody tr th {\n",
       "        vertical-align: top;\n",
       "    }\n",
       "\n",
       "    .dataframe thead th {\n",
       "        text-align: right;\n",
       "    }\n",
       "</style>\n",
       "<table border=\"1\" class=\"dataframe\">\n",
       "  <thead>\n",
       "    <tr style=\"text-align: right;\">\n",
       "      <th></th>\n",
       "      <th>Country/Region</th>\n",
       "      <th>1/22/20</th>\n",
       "      <th>1/23/20</th>\n",
       "      <th>1/24/20</th>\n",
       "      <th>1/25/20</th>\n",
       "      <th>1/26/20</th>\n",
       "      <th>1/27/20</th>\n",
       "      <th>1/28/20</th>\n",
       "      <th>1/29/20</th>\n",
       "      <th>1/30/20</th>\n",
       "      <th>...</th>\n",
       "      <th>8/11/22</th>\n",
       "      <th>8/12/22</th>\n",
       "      <th>8/13/22</th>\n",
       "      <th>8/14/22</th>\n",
       "      <th>8/15/22</th>\n",
       "      <th>8/16/22</th>\n",
       "      <th>8/17/22</th>\n",
       "      <th>8/18/22</th>\n",
       "      <th>8/19/22</th>\n",
       "      <th>8/20/22</th>\n",
       "    </tr>\n",
       "  </thead>\n",
       "  <tbody>\n",
       "    <tr>\n",
       "      <th>0</th>\n",
       "      <td>Afghanistan</td>\n",
       "      <td>0</td>\n",
       "      <td>0</td>\n",
       "      <td>0</td>\n",
       "      <td>0</td>\n",
       "      <td>0</td>\n",
       "      <td>0</td>\n",
       "      <td>0</td>\n",
       "      <td>0</td>\n",
       "      <td>0</td>\n",
       "      <td>...</td>\n",
       "      <td>0</td>\n",
       "      <td>0</td>\n",
       "      <td>0</td>\n",
       "      <td>0</td>\n",
       "      <td>0</td>\n",
       "      <td>0</td>\n",
       "      <td>0</td>\n",
       "      <td>0</td>\n",
       "      <td>0</td>\n",
       "      <td>0</td>\n",
       "    </tr>\n",
       "    <tr>\n",
       "      <th>1</th>\n",
       "      <td>Albania</td>\n",
       "      <td>0</td>\n",
       "      <td>0</td>\n",
       "      <td>0</td>\n",
       "      <td>0</td>\n",
       "      <td>0</td>\n",
       "      <td>0</td>\n",
       "      <td>0</td>\n",
       "      <td>0</td>\n",
       "      <td>0</td>\n",
       "      <td>...</td>\n",
       "      <td>0</td>\n",
       "      <td>0</td>\n",
       "      <td>0</td>\n",
       "      <td>0</td>\n",
       "      <td>0</td>\n",
       "      <td>0</td>\n",
       "      <td>0</td>\n",
       "      <td>0</td>\n",
       "      <td>0</td>\n",
       "      <td>0</td>\n",
       "    </tr>\n",
       "    <tr>\n",
       "      <th>2</th>\n",
       "      <td>Algeria</td>\n",
       "      <td>0</td>\n",
       "      <td>0</td>\n",
       "      <td>0</td>\n",
       "      <td>0</td>\n",
       "      <td>0</td>\n",
       "      <td>0</td>\n",
       "      <td>0</td>\n",
       "      <td>0</td>\n",
       "      <td>0</td>\n",
       "      <td>...</td>\n",
       "      <td>0</td>\n",
       "      <td>0</td>\n",
       "      <td>0</td>\n",
       "      <td>0</td>\n",
       "      <td>0</td>\n",
       "      <td>0</td>\n",
       "      <td>0</td>\n",
       "      <td>0</td>\n",
       "      <td>0</td>\n",
       "      <td>0</td>\n",
       "    </tr>\n",
       "    <tr>\n",
       "      <th>3</th>\n",
       "      <td>Andorra</td>\n",
       "      <td>0</td>\n",
       "      <td>0</td>\n",
       "      <td>0</td>\n",
       "      <td>0</td>\n",
       "      <td>0</td>\n",
       "      <td>0</td>\n",
       "      <td>0</td>\n",
       "      <td>0</td>\n",
       "      <td>0</td>\n",
       "      <td>...</td>\n",
       "      <td>0</td>\n",
       "      <td>0</td>\n",
       "      <td>0</td>\n",
       "      <td>0</td>\n",
       "      <td>0</td>\n",
       "      <td>0</td>\n",
       "      <td>0</td>\n",
       "      <td>0</td>\n",
       "      <td>0</td>\n",
       "      <td>0</td>\n",
       "    </tr>\n",
       "    <tr>\n",
       "      <th>4</th>\n",
       "      <td>Angola</td>\n",
       "      <td>0</td>\n",
       "      <td>0</td>\n",
       "      <td>0</td>\n",
       "      <td>0</td>\n",
       "      <td>0</td>\n",
       "      <td>0</td>\n",
       "      <td>0</td>\n",
       "      <td>0</td>\n",
       "      <td>0</td>\n",
       "      <td>...</td>\n",
       "      <td>0</td>\n",
       "      <td>0</td>\n",
       "      <td>0</td>\n",
       "      <td>0</td>\n",
       "      <td>0</td>\n",
       "      <td>0</td>\n",
       "      <td>0</td>\n",
       "      <td>0</td>\n",
       "      <td>0</td>\n",
       "      <td>0</td>\n",
       "    </tr>\n",
       "  </tbody>\n",
       "</table>\n",
       "<p>5 rows × 943 columns</p>\n",
       "</div>"
      ],
      "text/plain": [
       "  Country/Region  1/22/20  1/23/20  1/24/20  1/25/20  1/26/20  1/27/20  \\\n",
       "0    Afghanistan        0        0        0        0        0        0   \n",
       "1        Albania        0        0        0        0        0        0   \n",
       "2        Algeria        0        0        0        0        0        0   \n",
       "3        Andorra        0        0        0        0        0        0   \n",
       "4         Angola        0        0        0        0        0        0   \n",
       "\n",
       "   1/28/20  1/29/20  1/30/20  ...  8/11/22  8/12/22  8/13/22  8/14/22  \\\n",
       "0        0        0        0  ...        0        0        0        0   \n",
       "1        0        0        0  ...        0        0        0        0   \n",
       "2        0        0        0  ...        0        0        0        0   \n",
       "3        0        0        0  ...        0        0        0        0   \n",
       "4        0        0        0  ...        0        0        0        0   \n",
       "\n",
       "   8/15/22  8/16/22  8/17/22  8/18/22  8/19/22  8/20/22  \n",
       "0        0        0        0        0        0        0  \n",
       "1        0        0        0        0        0        0  \n",
       "2        0        0        0        0        0        0  \n",
       "3        0        0        0        0        0        0  \n",
       "4        0        0        0        0        0        0  \n",
       "\n",
       "[5 rows x 943 columns]"
      ]
     },
     "execution_count": 12,
     "metadata": {},
     "output_type": "execute_result"
    }
   ],
   "source": [
    "recovered_df.head()"
   ]
  },
  {
   "cell_type": "markdown",
   "metadata": {},
   "source": [
    "There are less observations on recovered cases dataset in comparison to deaths or confirmed cases. Does it has to do with the number of listed countries?"
   ]
  },
  {
   "cell_type": "code",
   "execution_count": 13,
   "metadata": {},
   "outputs": [
    {
     "name": "stdout",
     "output_type": "stream",
     "text": [
      "How many countries in the confirmed cases list ?  199\n",
      "How many countries in the deaths cases list ?  199\n",
      "How many countries in the recovered cases list ?  199\n"
     ]
    }
   ],
   "source": [
    "# Country Names\n",
    "print(\"How many countries in the confirmed cases list ? \",len(np.unique(confirmed_df[\"Country/Region\"])))\n",
    "print(\"How many countries in the deaths cases list ? \",len(np.unique(deaths_df[\"Country/Region\"])))\n",
    "print(\"How many countries in the recovered cases list ? \",len(np.unique(recovered_df[\"Country/Region\"])))"
   ]
  },
  {
   "cell_type": "markdown",
   "metadata": {},
   "source": [
    "Luckily, it has nothing to do with the countries, so the same countries are listed in the three data sources."
   ]
  },
  {
   "cell_type": "markdown",
   "metadata": {},
   "source": [
    "### C) Government Response Data <a class=\"anchor\" id=\"si-data\"></a>"
   ]
  },
  {
   "cell_type": "code",
   "execution_count": 14,
   "metadata": {},
   "outputs": [
    {
     "name": "stdout",
     "output_type": "stream",
     "text": [
      "Removed 4 columns from dataframe\n"
     ]
    },
    {
     "data": {
      "text/html": [
       "<div>\n",
       "<style scoped>\n",
       "    .dataframe tbody tr th:only-of-type {\n",
       "        vertical-align: middle;\n",
       "    }\n",
       "\n",
       "    .dataframe tbody tr th {\n",
       "        vertical-align: top;\n",
       "    }\n",
       "\n",
       "    .dataframe thead th {\n",
       "        text-align: right;\n",
       "    }\n",
       "</style>\n",
       "<table border=\"1\" class=\"dataframe\">\n",
       "  <thead>\n",
       "    <tr style=\"text-align: right;\">\n",
       "      <th></th>\n",
       "      <th>Values</th>\n",
       "    </tr>\n",
       "  </thead>\n",
       "  <tbody>\n",
       "    <tr>\n",
       "      <th># Rows</th>\n",
       "      <td>263.000</td>\n",
       "    </tr>\n",
       "    <tr>\n",
       "      <th># Columns</th>\n",
       "      <td>970.000</td>\n",
       "    </tr>\n",
       "    <tr>\n",
       "      <th># Rows with NAs</th>\n",
       "      <td>263.000</td>\n",
       "    </tr>\n",
       "    <tr>\n",
       "      <th># Columns with NAs</th>\n",
       "      <td>969.000</td>\n",
       "    </tr>\n",
       "    <tr>\n",
       "      <th>% Null Values in Dataframe</th>\n",
       "      <td>7.953</td>\n",
       "    </tr>\n",
       "  </tbody>\n",
       "</table>\n",
       "</div>"
      ],
      "text/plain": [
       "                             Values\n",
       "# Rows                      263.000\n",
       "# Columns                   970.000\n",
       "# Rows with NAs             263.000\n",
       "# Columns with NAs          969.000\n",
       "% Null Values in Dataframe    7.953"
      ]
     },
     "execution_count": 14,
     "metadata": {},
     "output_type": "execute_result"
    }
   ],
   "source": [
    "file_path = \"../ProjectDataSources/covid-policy-tracker/\" + \\\n",
    "            \"timeseries/stringency_index_avg.csv\"\n",
    "\n",
    "stringency_df = utils.read_data(file_path)\n",
    "stringency_df = utils.drop_columns(stringency_df, data_source=\"stringency_index\")\n",
    "\n",
    "utils.initial_dataframe_check(stringency_df)"
   ]
  },
  {
   "cell_type": "code",
   "execution_count": 15,
   "metadata": {},
   "outputs": [
    {
     "data": {
      "text/html": [
       "<div>\n",
       "<style scoped>\n",
       "    .dataframe tbody tr th:only-of-type {\n",
       "        vertical-align: middle;\n",
       "    }\n",
       "\n",
       "    .dataframe tbody tr th {\n",
       "        vertical-align: top;\n",
       "    }\n",
       "\n",
       "    .dataframe thead th {\n",
       "        text-align: right;\n",
       "    }\n",
       "</style>\n",
       "<table border=\"1\" class=\"dataframe\">\n",
       "  <thead>\n",
       "    <tr style=\"text-align: right;\">\n",
       "      <th></th>\n",
       "      <th>country_name</th>\n",
       "      <th>01Jan2020</th>\n",
       "      <th>02Jan2020</th>\n",
       "      <th>03Jan2020</th>\n",
       "      <th>04Jan2020</th>\n",
       "      <th>05Jan2020</th>\n",
       "      <th>06Jan2020</th>\n",
       "      <th>07Jan2020</th>\n",
       "      <th>08Jan2020</th>\n",
       "      <th>09Jan2020</th>\n",
       "      <th>...</th>\n",
       "      <th>17Aug2022</th>\n",
       "      <th>18Aug2022</th>\n",
       "      <th>19Aug2022</th>\n",
       "      <th>20Aug2022</th>\n",
       "      <th>21Aug2022</th>\n",
       "      <th>22Aug2022</th>\n",
       "      <th>23Aug2022</th>\n",
       "      <th>24Aug2022</th>\n",
       "      <th>25Aug2022</th>\n",
       "      <th>26Aug2022</th>\n",
       "    </tr>\n",
       "  </thead>\n",
       "  <tbody>\n",
       "    <tr>\n",
       "      <th>0</th>\n",
       "      <td>Aruba</td>\n",
       "      <td>NaN</td>\n",
       "      <td>NaN</td>\n",
       "      <td>NaN</td>\n",
       "      <td>NaN</td>\n",
       "      <td>NaN</td>\n",
       "      <td>NaN</td>\n",
       "      <td>NaN</td>\n",
       "      <td>NaN</td>\n",
       "      <td>NaN</td>\n",
       "      <td>...</td>\n",
       "      <td>NaN</td>\n",
       "      <td>NaN</td>\n",
       "      <td>NaN</td>\n",
       "      <td>NaN</td>\n",
       "      <td>NaN</td>\n",
       "      <td>NaN</td>\n",
       "      <td>NaN</td>\n",
       "      <td>NaN</td>\n",
       "      <td>NaN</td>\n",
       "      <td>NaN</td>\n",
       "    </tr>\n",
       "    <tr>\n",
       "      <th>1</th>\n",
       "      <td>Afghanistan</td>\n",
       "      <td>NaN</td>\n",
       "      <td>NaN</td>\n",
       "      <td>NaN</td>\n",
       "      <td>NaN</td>\n",
       "      <td>NaN</td>\n",
       "      <td>NaN</td>\n",
       "      <td>NaN</td>\n",
       "      <td>NaN</td>\n",
       "      <td>NaN</td>\n",
       "      <td>...</td>\n",
       "      <td>11.11</td>\n",
       "      <td>11.11</td>\n",
       "      <td>11.11</td>\n",
       "      <td>11.11</td>\n",
       "      <td>11.11</td>\n",
       "      <td>NaN</td>\n",
       "      <td>NaN</td>\n",
       "      <td>NaN</td>\n",
       "      <td>NaN</td>\n",
       "      <td>NaN</td>\n",
       "    </tr>\n",
       "    <tr>\n",
       "      <th>2</th>\n",
       "      <td>Angola</td>\n",
       "      <td>NaN</td>\n",
       "      <td>NaN</td>\n",
       "      <td>NaN</td>\n",
       "      <td>NaN</td>\n",
       "      <td>NaN</td>\n",
       "      <td>NaN</td>\n",
       "      <td>NaN</td>\n",
       "      <td>NaN</td>\n",
       "      <td>NaN</td>\n",
       "      <td>...</td>\n",
       "      <td>NaN</td>\n",
       "      <td>NaN</td>\n",
       "      <td>NaN</td>\n",
       "      <td>NaN</td>\n",
       "      <td>NaN</td>\n",
       "      <td>NaN</td>\n",
       "      <td>NaN</td>\n",
       "      <td>NaN</td>\n",
       "      <td>NaN</td>\n",
       "      <td>NaN</td>\n",
       "    </tr>\n",
       "    <tr>\n",
       "      <th>3</th>\n",
       "      <td>Albania</td>\n",
       "      <td>NaN</td>\n",
       "      <td>NaN</td>\n",
       "      <td>NaN</td>\n",
       "      <td>NaN</td>\n",
       "      <td>NaN</td>\n",
       "      <td>NaN</td>\n",
       "      <td>NaN</td>\n",
       "      <td>NaN</td>\n",
       "      <td>NaN</td>\n",
       "      <td>...</td>\n",
       "      <td>11.11</td>\n",
       "      <td>11.11</td>\n",
       "      <td>11.11</td>\n",
       "      <td>11.11</td>\n",
       "      <td>11.11</td>\n",
       "      <td>11.11</td>\n",
       "      <td>11.11</td>\n",
       "      <td>NaN</td>\n",
       "      <td>NaN</td>\n",
       "      <td>NaN</td>\n",
       "    </tr>\n",
       "    <tr>\n",
       "      <th>4</th>\n",
       "      <td>Andorra</td>\n",
       "      <td>NaN</td>\n",
       "      <td>NaN</td>\n",
       "      <td>NaN</td>\n",
       "      <td>NaN</td>\n",
       "      <td>NaN</td>\n",
       "      <td>NaN</td>\n",
       "      <td>NaN</td>\n",
       "      <td>NaN</td>\n",
       "      <td>NaN</td>\n",
       "      <td>...</td>\n",
       "      <td>5.56</td>\n",
       "      <td>5.56</td>\n",
       "      <td>5.56</td>\n",
       "      <td>5.56</td>\n",
       "      <td>5.56</td>\n",
       "      <td>5.56</td>\n",
       "      <td>5.56</td>\n",
       "      <td>NaN</td>\n",
       "      <td>NaN</td>\n",
       "      <td>NaN</td>\n",
       "    </tr>\n",
       "  </tbody>\n",
       "</table>\n",
       "<p>5 rows × 970 columns</p>\n",
       "</div>"
      ],
      "text/plain": [
       "  country_name  01Jan2020  02Jan2020  03Jan2020  04Jan2020  05Jan2020  \\\n",
       "0        Aruba        NaN        NaN        NaN        NaN        NaN   \n",
       "1  Afghanistan        NaN        NaN        NaN        NaN        NaN   \n",
       "2       Angola        NaN        NaN        NaN        NaN        NaN   \n",
       "3      Albania        NaN        NaN        NaN        NaN        NaN   \n",
       "4      Andorra        NaN        NaN        NaN        NaN        NaN   \n",
       "\n",
       "   06Jan2020  07Jan2020  08Jan2020  09Jan2020  ...  17Aug2022  18Aug2022  \\\n",
       "0        NaN        NaN        NaN        NaN  ...        NaN        NaN   \n",
       "1        NaN        NaN        NaN        NaN  ...      11.11      11.11   \n",
       "2        NaN        NaN        NaN        NaN  ...        NaN        NaN   \n",
       "3        NaN        NaN        NaN        NaN  ...      11.11      11.11   \n",
       "4        NaN        NaN        NaN        NaN  ...       5.56       5.56   \n",
       "\n",
       "   19Aug2022  20Aug2022  21Aug2022  22Aug2022  23Aug2022  24Aug2022  \\\n",
       "0        NaN        NaN        NaN        NaN        NaN        NaN   \n",
       "1      11.11      11.11      11.11        NaN        NaN        NaN   \n",
       "2        NaN        NaN        NaN        NaN        NaN        NaN   \n",
       "3      11.11      11.11      11.11      11.11      11.11        NaN   \n",
       "4       5.56       5.56       5.56       5.56       5.56        NaN   \n",
       "\n",
       "   25Aug2022  26Aug2022  \n",
       "0        NaN        NaN  \n",
       "1        NaN        NaN  \n",
       "2        NaN        NaN  \n",
       "3        NaN        NaN  \n",
       "4        NaN        NaN  \n",
       "\n",
       "[5 rows x 970 columns]"
      ]
     },
     "execution_count": 15,
     "metadata": {},
     "output_type": "execute_result"
    }
   ],
   "source": [
    "stringency_df.head()"
   ]
  },
  {
   "cell_type": "code",
   "execution_count": 16,
   "metadata": {},
   "outputs": [
    {
     "name": "stdout",
     "output_type": "stream",
     "text": [
      "How many countries in the list ?  187\n"
     ]
    }
   ],
   "source": [
    "number_unique_countries = len(np.unique(stringency_df[\"country_name\"]))\n",
    "print(\"How many countries in the list ? \", number_unique_countries)"
   ]
  },
  {
   "cell_type": "markdown",
   "metadata": {},
   "source": [
    "The country list for stringency index dataset is smaller than the ones from the CSSE data source for daily and cumulative data cases. The country list is going to be intersected in further steps for data consistency."
   ]
  },
  {
   "cell_type": "markdown",
   "metadata": {},
   "source": [
    "## 3 Merging Data Sources  <a class=\"anchor\" id=\"merge-data\"></a>\n",
    "\n",
    "Some of the collected data sources have the data stores as tables with each timestamp (a day) having a separate column. For further purposes, involving aggregation and visualization, it would be useful to have a dedicated column for timestamps, assigning the numerical value to another column, representing the data source: it can be Daily data, Cumulative or about the Stringency Index.\n",
    "\n",
    "With Pandas built-in functions, it is easy to do the required manipulation. One thing to notice is that there are a few countries for which collected data is more ambitious and it is split by regions or by its overseas regions. For simplicity, every country must have only one row for all timestamps, and hence a sum aggregations should be done.\n",
    "\n",
    "The functions to merge and aggregate data are part of the scripts folder."
   ]
  },
  {
   "cell_type": "markdown",
   "metadata": {},
   "source": [
    "### A) Aggregate and Merge Cumulative Cases Data <a class=\"anchor\" id=\"merge-cumulative-data\"></a>\n",
    "\n",
    "For a successful merging, the same number of countries should be contained in each of the dataframes to merge. This is proved by using a function which computes the intersection for the involved datasets, where the values should match between each other."
   ]
  },
  {
   "cell_type": "code",
   "execution_count": 17,
   "metadata": {},
   "outputs": [],
   "source": [
    "intersection_1 = utils.get_list_inner_outer_join(np.unique(confirmed_df[\"Country/Region\"]),\n",
    "                                                 np.unique(deaths_df[\"Country/Region\"]),\n",
    "                                                 operation=\"inner\")\n",
    "\n",
    "intersection_2 = utils.get_list_inner_outer_join(np.unique(confirmed_df[\"Country/Region\"]),\n",
    "                                                 np.unique(recovered_df[\"Country/Region\"]),\n",
    "                                                 operation=\"inner\")\n",
    "\n",
    "intersection_3 = utils.get_list_inner_outer_join(np.unique(deaths_df[\"Country/Region\"]),\n",
    "                                                 np.unique(recovered_df[\"Country/Region\"]),\n",
    "                                                 operation=\"inner\")"
   ]
  },
  {
   "cell_type": "code",
   "execution_count": 18,
   "metadata": {},
   "outputs": [
    {
     "name": "stdout",
     "output_type": "stream",
     "text": [
      "199\n",
      "199\n",
      "199\n"
     ]
    }
   ],
   "source": [
    "print(len(intersection_1))\n",
    "print(len(intersection_2))\n",
    "print(len(intersection_3))"
   ]
  },
  {
   "cell_type": "markdown",
   "metadata": {},
   "source": [
    "It seems that the same number of countries are contained in each cumulative dataset. Now, let's check if the data per country is summarized in a single observation, or if the data source collects some countries data by its composed regions or overseas territories."
   ]
  },
  {
   "cell_type": "markdown",
   "metadata": {},
   "source": [
    "#### Confirmed Cases"
   ]
  },
  {
   "cell_type": "code",
   "execution_count": 19,
   "metadata": {},
   "outputs": [
    {
     "name": "stdout",
     "output_type": "stream",
     "text": [
      "There are 8 countries where data needs to be aggregated.\n"
     ]
    },
    {
     "data": {
      "text/plain": [
       "['Australia',\n",
       " 'Canada',\n",
       " 'China',\n",
       " 'Denmark',\n",
       " 'France',\n",
       " 'Netherlands',\n",
       " 'New Zealand',\n",
       " 'United Kingdom']"
      ]
     },
     "execution_count": 19,
     "metadata": {},
     "output_type": "execute_result"
    }
   ],
   "source": [
    "aggregate_countries = utils.get_countries_split_by_regions(confirmed_df, \n",
    "                                                           country_column=\"Country/Region\")\n",
    "\n",
    "aggregate_countries"
   ]
  },
  {
   "cell_type": "code",
   "execution_count": 20,
   "metadata": {},
   "outputs": [
    {
     "name": "stdout",
     "output_type": "stream",
     "text": [
      "                            Values\n",
      "# Rows                       199.0\n",
      "# Columns                    943.0\n",
      "# Rows with NAs                0.0\n",
      "# Columns with NAs             0.0\n",
      "% Null Values in Dataframe     0.0\n"
     ]
    }
   ],
   "source": [
    "if len(aggregate_countries) > 0:\n",
    "    confirmed_df = utils.sum_aggregation_dataframe(confirmed_df, aggregate_countries,\n",
    "                                                   country_column=\"Country/Region\")\n",
    "    \n",
    "    print(utils.initial_dataframe_check(confirmed_df))\n",
    "    \n",
    "else:\n",
    "    pass"
   ]
  },
  {
   "cell_type": "markdown",
   "metadata": {},
   "source": [
    "#### Death Cases"
   ]
  },
  {
   "cell_type": "code",
   "execution_count": 21,
   "metadata": {},
   "outputs": [
    {
     "name": "stdout",
     "output_type": "stream",
     "text": [
      "There are 8 countries where data needs to be aggregated.\n"
     ]
    },
    {
     "data": {
      "text/plain": [
       "['Australia',\n",
       " 'Canada',\n",
       " 'China',\n",
       " 'Denmark',\n",
       " 'France',\n",
       " 'Netherlands',\n",
       " 'New Zealand',\n",
       " 'United Kingdom']"
      ]
     },
     "execution_count": 21,
     "metadata": {},
     "output_type": "execute_result"
    }
   ],
   "source": [
    "aggregate_countries = utils.get_countries_split_by_regions(deaths_df, \n",
    "                                                           country_column=\"Country/Region\")\n",
    "\n",
    "aggregate_countries"
   ]
  },
  {
   "cell_type": "code",
   "execution_count": 22,
   "metadata": {},
   "outputs": [
    {
     "name": "stdout",
     "output_type": "stream",
     "text": [
      "                            Values\n",
      "# Rows                       199.0\n",
      "# Columns                    943.0\n",
      "# Rows with NAs                0.0\n",
      "# Columns with NAs             0.0\n",
      "% Null Values in Dataframe     0.0\n"
     ]
    }
   ],
   "source": [
    "if len(aggregate_countries) > 0:\n",
    "    deaths_df = utils.sum_aggregation_dataframe(deaths_df, aggregate_countries,\n",
    "                                                country_column=\"Country/Region\")\n",
    "    \n",
    "    print(utils.initial_dataframe_check(deaths_df))\n",
    "    \n",
    "else:\n",
    "    pass"
   ]
  },
  {
   "cell_type": "markdown",
   "metadata": {},
   "source": [
    "#### Recovered Cases"
   ]
  },
  {
   "cell_type": "code",
   "execution_count": 23,
   "metadata": {},
   "outputs": [
    {
     "name": "stdout",
     "output_type": "stream",
     "text": [
      "There are 7 countries where data needs to be aggregated.\n"
     ]
    },
    {
     "data": {
      "text/plain": [
       "['Australia',\n",
       " 'China',\n",
       " 'Denmark',\n",
       " 'France',\n",
       " 'Netherlands',\n",
       " 'New Zealand',\n",
       " 'United Kingdom']"
      ]
     },
     "execution_count": 23,
     "metadata": {},
     "output_type": "execute_result"
    }
   ],
   "source": [
    "aggregate_countries = utils.get_countries_split_by_regions(recovered_df, \n",
    "                                                           country_column=\"Country/Region\")\n",
    "\n",
    "aggregate_countries"
   ]
  },
  {
   "cell_type": "code",
   "execution_count": 24,
   "metadata": {},
   "outputs": [
    {
     "name": "stdout",
     "output_type": "stream",
     "text": [
      "                            Values\n",
      "# Rows                       199.0\n",
      "# Columns                    943.0\n",
      "# Rows with NAs                0.0\n",
      "# Columns with NAs             0.0\n",
      "% Null Values in Dataframe     0.0\n"
     ]
    }
   ],
   "source": [
    "if len(aggregate_countries) > 0:\n",
    "    recovered_df = utils.sum_aggregation_dataframe(recovered_df, aggregate_countries,\n",
    "                                                   country_column=\"Country/Region\")\n",
    "    \n",
    "    print(utils.initial_dataframe_check(recovered_df))\n",
    "    \n",
    "else:\n",
    "    pass"
   ]
  },
  {
   "cell_type": "markdown",
   "metadata": {},
   "source": [
    "#### Merging Data"
   ]
  },
  {
   "cell_type": "markdown",
   "metadata": {},
   "source": [
    "Each cumulative dataset is melted, transforming the dataframe so that a column contain all measurements, and merged together with the other cumulative data ones."
   ]
  },
  {
   "cell_type": "code",
   "execution_count": 25,
   "metadata": {},
   "outputs": [
    {
     "data": {
      "text/html": [
       "<div>\n",
       "<style scoped>\n",
       "    .dataframe tbody tr th:only-of-type {\n",
       "        vertical-align: middle;\n",
       "    }\n",
       "\n",
       "    .dataframe tbody tr th {\n",
       "        vertical-align: top;\n",
       "    }\n",
       "\n",
       "    .dataframe thead th {\n",
       "        text-align: right;\n",
       "    }\n",
       "</style>\n",
       "<table border=\"1\" class=\"dataframe\">\n",
       "  <thead>\n",
       "    <tr style=\"text-align: right;\">\n",
       "      <th></th>\n",
       "      <th>Values</th>\n",
       "    </tr>\n",
       "  </thead>\n",
       "  <tbody>\n",
       "    <tr>\n",
       "      <th># Rows</th>\n",
       "      <td>187458.0</td>\n",
       "    </tr>\n",
       "    <tr>\n",
       "      <th># Columns</th>\n",
       "      <td>3.0</td>\n",
       "    </tr>\n",
       "    <tr>\n",
       "      <th># Rows with NAs</th>\n",
       "      <td>0.0</td>\n",
       "    </tr>\n",
       "    <tr>\n",
       "      <th># Columns with NAs</th>\n",
       "      <td>0.0</td>\n",
       "    </tr>\n",
       "    <tr>\n",
       "      <th>% Null Values in Dataframe</th>\n",
       "      <td>0.0</td>\n",
       "    </tr>\n",
       "  </tbody>\n",
       "</table>\n",
       "</div>"
      ],
      "text/plain": [
       "                              Values\n",
       "# Rows                      187458.0\n",
       "# Columns                        3.0\n",
       "# Rows with NAs                  0.0\n",
       "# Columns with NAs               0.0\n",
       "% Null Values in Dataframe       0.0"
      ]
     },
     "execution_count": 25,
     "metadata": {},
     "output_type": "execute_result"
    }
   ],
   "source": [
    "confirmed_df_melt = pd.melt(confirmed_df, \n",
    "                            id_vars=\"Country/Region\", \n",
    "                            value_vars=list(confirmed_df.columns[1:]),\n",
    "                            var_name=\"Timestamps\", \n",
    "                            value_name=\"Confirmed Cases\")\n",
    "\n",
    "utils.initial_dataframe_check(confirmed_df_melt)"
   ]
  },
  {
   "cell_type": "code",
   "execution_count": 26,
   "metadata": {},
   "outputs": [
    {
     "data": {
      "text/html": [
       "<div>\n",
       "<style scoped>\n",
       "    .dataframe tbody tr th:only-of-type {\n",
       "        vertical-align: middle;\n",
       "    }\n",
       "\n",
       "    .dataframe tbody tr th {\n",
       "        vertical-align: top;\n",
       "    }\n",
       "\n",
       "    .dataframe thead th {\n",
       "        text-align: right;\n",
       "    }\n",
       "</style>\n",
       "<table border=\"1\" class=\"dataframe\">\n",
       "  <thead>\n",
       "    <tr style=\"text-align: right;\">\n",
       "      <th></th>\n",
       "      <th>Values</th>\n",
       "    </tr>\n",
       "  </thead>\n",
       "  <tbody>\n",
       "    <tr>\n",
       "      <th># Rows</th>\n",
       "      <td>187458.0</td>\n",
       "    </tr>\n",
       "    <tr>\n",
       "      <th># Columns</th>\n",
       "      <td>3.0</td>\n",
       "    </tr>\n",
       "    <tr>\n",
       "      <th># Rows with NAs</th>\n",
       "      <td>0.0</td>\n",
       "    </tr>\n",
       "    <tr>\n",
       "      <th># Columns with NAs</th>\n",
       "      <td>0.0</td>\n",
       "    </tr>\n",
       "    <tr>\n",
       "      <th>% Null Values in Dataframe</th>\n",
       "      <td>0.0</td>\n",
       "    </tr>\n",
       "  </tbody>\n",
       "</table>\n",
       "</div>"
      ],
      "text/plain": [
       "                              Values\n",
       "# Rows                      187458.0\n",
       "# Columns                        3.0\n",
       "# Rows with NAs                  0.0\n",
       "# Columns with NAs               0.0\n",
       "% Null Values in Dataframe       0.0"
      ]
     },
     "execution_count": 26,
     "metadata": {},
     "output_type": "execute_result"
    }
   ],
   "source": [
    "deaths_df_melt = pd.melt(deaths_df, \n",
    "                         id_vars=\"Country/Region\", \n",
    "                         value_vars=list(deaths_df.columns[1:]),\n",
    "                         var_name=\"Timestamps\", \n",
    "                         value_name=\"Death Cases\")\n",
    "\n",
    "utils.initial_dataframe_check(deaths_df_melt)"
   ]
  },
  {
   "cell_type": "code",
   "execution_count": 27,
   "metadata": {},
   "outputs": [
    {
     "data": {
      "text/html": [
       "<div>\n",
       "<style scoped>\n",
       "    .dataframe tbody tr th:only-of-type {\n",
       "        vertical-align: middle;\n",
       "    }\n",
       "\n",
       "    .dataframe tbody tr th {\n",
       "        vertical-align: top;\n",
       "    }\n",
       "\n",
       "    .dataframe thead th {\n",
       "        text-align: right;\n",
       "    }\n",
       "</style>\n",
       "<table border=\"1\" class=\"dataframe\">\n",
       "  <thead>\n",
       "    <tr style=\"text-align: right;\">\n",
       "      <th></th>\n",
       "      <th>Values</th>\n",
       "    </tr>\n",
       "  </thead>\n",
       "  <tbody>\n",
       "    <tr>\n",
       "      <th># Rows</th>\n",
       "      <td>187458.0</td>\n",
       "    </tr>\n",
       "    <tr>\n",
       "      <th># Columns</th>\n",
       "      <td>3.0</td>\n",
       "    </tr>\n",
       "    <tr>\n",
       "      <th># Rows with NAs</th>\n",
       "      <td>0.0</td>\n",
       "    </tr>\n",
       "    <tr>\n",
       "      <th># Columns with NAs</th>\n",
       "      <td>0.0</td>\n",
       "    </tr>\n",
       "    <tr>\n",
       "      <th>% Null Values in Dataframe</th>\n",
       "      <td>0.0</td>\n",
       "    </tr>\n",
       "  </tbody>\n",
       "</table>\n",
       "</div>"
      ],
      "text/plain": [
       "                              Values\n",
       "# Rows                      187458.0\n",
       "# Columns                        3.0\n",
       "# Rows with NAs                  0.0\n",
       "# Columns with NAs               0.0\n",
       "% Null Values in Dataframe       0.0"
      ]
     },
     "execution_count": 27,
     "metadata": {},
     "output_type": "execute_result"
    }
   ],
   "source": [
    "recovered_df_melt = pd.melt(recovered_df, \n",
    "                            id_vars=\"Country/Region\", \n",
    "                            value_vars=list(recovered_df.columns[1:]),\n",
    "                            var_name=\"Timestamps\", \n",
    "                            value_name=\"Recovered Cases\")\n",
    "\n",
    "utils.initial_dataframe_check(recovered_df_melt)"
   ]
  },
  {
   "cell_type": "markdown",
   "metadata": {},
   "source": [
    "Because each of the stacked dataframe shares the same country and timestamps column names and values, merging process is straightforward."
   ]
  },
  {
   "cell_type": "code",
   "execution_count": 28,
   "metadata": {},
   "outputs": [
    {
     "name": "stdout",
     "output_type": "stream",
     "text": [
      "Number of rows     :  187458\n",
      "Number of columns  :  5\n"
     ]
    }
   ],
   "source": [
    "merged_df = pd.concat([confirmed_df_melt, deaths_df_melt, recovered_df_melt], \n",
    "                     axis=1, join='inner')\n",
    "\n",
    "# drop column duplicates\n",
    "merged_df = merged_df.loc[:,~merged_df.columns.duplicated()]\n",
    "\n",
    "print(\"Number of rows     : \", merged_df.shape[0])\n",
    "print(\"Number of columns  : \", merged_df.shape[1])"
   ]
  },
  {
   "cell_type": "code",
   "execution_count": 31,
   "metadata": {},
   "outputs": [
    {
     "data": {
      "text/html": [
       "<div>\n",
       "<style scoped>\n",
       "    .dataframe tbody tr th:only-of-type {\n",
       "        vertical-align: middle;\n",
       "    }\n",
       "\n",
       "    .dataframe tbody tr th {\n",
       "        vertical-align: top;\n",
       "    }\n",
       "\n",
       "    .dataframe thead th {\n",
       "        text-align: right;\n",
       "    }\n",
       "</style>\n",
       "<table border=\"1\" class=\"dataframe\">\n",
       "  <thead>\n",
       "    <tr style=\"text-align: right;\">\n",
       "      <th></th>\n",
       "      <th>Country/Region</th>\n",
       "      <th>Timestamps</th>\n",
       "      <th>Confirmed Cases</th>\n",
       "      <th>Death Cases</th>\n",
       "      <th>Recovered Cases</th>\n",
       "    </tr>\n",
       "  </thead>\n",
       "  <tbody>\n",
       "    <tr>\n",
       "      <th>187438</th>\n",
       "      <td>Togo</td>\n",
       "      <td>8/20/22</td>\n",
       "      <td>38355</td>\n",
       "      <td>282</td>\n",
       "      <td>0</td>\n",
       "    </tr>\n",
       "    <tr>\n",
       "      <th>187439</th>\n",
       "      <td>Tonga</td>\n",
       "      <td>8/20/22</td>\n",
       "      <td>14135</td>\n",
       "      <td>12</td>\n",
       "      <td>0</td>\n",
       "    </tr>\n",
       "    <tr>\n",
       "      <th>187440</th>\n",
       "      <td>Trinidad and Tobago</td>\n",
       "      <td>8/20/22</td>\n",
       "      <td>176821</td>\n",
       "      <td>4095</td>\n",
       "      <td>0</td>\n",
       "    </tr>\n",
       "    <tr>\n",
       "      <th>187441</th>\n",
       "      <td>Tunisia</td>\n",
       "      <td>8/20/22</td>\n",
       "      <td>1141773</td>\n",
       "      <td>29209</td>\n",
       "      <td>0</td>\n",
       "    </tr>\n",
       "    <tr>\n",
       "      <th>187442</th>\n",
       "      <td>Turkey</td>\n",
       "      <td>8/20/22</td>\n",
       "      <td>16671848</td>\n",
       "      <td>100400</td>\n",
       "      <td>0</td>\n",
       "    </tr>\n",
       "    <tr>\n",
       "      <th>187443</th>\n",
       "      <td>US</td>\n",
       "      <td>8/20/22</td>\n",
       "      <td>93634408</td>\n",
       "      <td>1041141</td>\n",
       "      <td>0</td>\n",
       "    </tr>\n",
       "    <tr>\n",
       "      <th>187444</th>\n",
       "      <td>Uganda</td>\n",
       "      <td>8/20/22</td>\n",
       "      <td>169396</td>\n",
       "      <td>3628</td>\n",
       "      <td>0</td>\n",
       "    </tr>\n",
       "    <tr>\n",
       "      <th>187445</th>\n",
       "      <td>Ukraine</td>\n",
       "      <td>8/20/22</td>\n",
       "      <td>5313322</td>\n",
       "      <td>116551</td>\n",
       "      <td>0</td>\n",
       "    </tr>\n",
       "    <tr>\n",
       "      <th>187446</th>\n",
       "      <td>United Arab Emirates</td>\n",
       "      <td>8/20/22</td>\n",
       "      <td>1009116</td>\n",
       "      <td>2341</td>\n",
       "      <td>0</td>\n",
       "    </tr>\n",
       "    <tr>\n",
       "      <th>187447</th>\n",
       "      <td>United Kingdom</td>\n",
       "      <td>8/20/22</td>\n",
       "      <td>23675485</td>\n",
       "      <td>187731</td>\n",
       "      <td>0</td>\n",
       "    </tr>\n",
       "    <tr>\n",
       "      <th>187448</th>\n",
       "      <td>Uruguay</td>\n",
       "      <td>8/20/22</td>\n",
       "      <td>975264</td>\n",
       "      <td>7429</td>\n",
       "      <td>0</td>\n",
       "    </tr>\n",
       "    <tr>\n",
       "      <th>187449</th>\n",
       "      <td>Uzbekistan</td>\n",
       "      <td>8/20/22</td>\n",
       "      <td>243654</td>\n",
       "      <td>1637</td>\n",
       "      <td>0</td>\n",
       "    </tr>\n",
       "    <tr>\n",
       "      <th>187450</th>\n",
       "      <td>Vanuatu</td>\n",
       "      <td>8/20/22</td>\n",
       "      <td>11770</td>\n",
       "      <td>14</td>\n",
       "      <td>0</td>\n",
       "    </tr>\n",
       "    <tr>\n",
       "      <th>187451</th>\n",
       "      <td>Venezuela</td>\n",
       "      <td>8/20/22</td>\n",
       "      <td>541322</td>\n",
       "      <td>5786</td>\n",
       "      <td>0</td>\n",
       "    </tr>\n",
       "    <tr>\n",
       "      <th>187452</th>\n",
       "      <td>Vietnam</td>\n",
       "      <td>8/20/22</td>\n",
       "      <td>11382258</td>\n",
       "      <td>43104</td>\n",
       "      <td>0</td>\n",
       "    </tr>\n",
       "    <tr>\n",
       "      <th>187453</th>\n",
       "      <td>West Bank and Gaza</td>\n",
       "      <td>8/20/22</td>\n",
       "      <td>697447</td>\n",
       "      <td>5691</td>\n",
       "      <td>0</td>\n",
       "    </tr>\n",
       "    <tr>\n",
       "      <th>187454</th>\n",
       "      <td>Winter Olympics 2022</td>\n",
       "      <td>8/20/22</td>\n",
       "      <td>535</td>\n",
       "      <td>0</td>\n",
       "      <td>0</td>\n",
       "    </tr>\n",
       "    <tr>\n",
       "      <th>187455</th>\n",
       "      <td>Yemen</td>\n",
       "      <td>8/20/22</td>\n",
       "      <td>11915</td>\n",
       "      <td>2153</td>\n",
       "      <td>0</td>\n",
       "    </tr>\n",
       "    <tr>\n",
       "      <th>187456</th>\n",
       "      <td>Zambia</td>\n",
       "      <td>8/20/22</td>\n",
       "      <td>332264</td>\n",
       "      <td>4016</td>\n",
       "      <td>0</td>\n",
       "    </tr>\n",
       "    <tr>\n",
       "      <th>187457</th>\n",
       "      <td>Zimbabwe</td>\n",
       "      <td>8/20/22</td>\n",
       "      <td>256616</td>\n",
       "      <td>5592</td>\n",
       "      <td>0</td>\n",
       "    </tr>\n",
       "  </tbody>\n",
       "</table>\n",
       "</div>"
      ],
      "text/plain": [
       "              Country/Region Timestamps  Confirmed Cases  Death Cases  \\\n",
       "187438                  Togo    8/20/22            38355          282   \n",
       "187439                 Tonga    8/20/22            14135           12   \n",
       "187440   Trinidad and Tobago    8/20/22           176821         4095   \n",
       "187441               Tunisia    8/20/22          1141773        29209   \n",
       "187442                Turkey    8/20/22         16671848       100400   \n",
       "187443                    US    8/20/22         93634408      1041141   \n",
       "187444                Uganda    8/20/22           169396         3628   \n",
       "187445               Ukraine    8/20/22          5313322       116551   \n",
       "187446  United Arab Emirates    8/20/22          1009116         2341   \n",
       "187447        United Kingdom    8/20/22         23675485       187731   \n",
       "187448               Uruguay    8/20/22           975264         7429   \n",
       "187449            Uzbekistan    8/20/22           243654         1637   \n",
       "187450               Vanuatu    8/20/22            11770           14   \n",
       "187451             Venezuela    8/20/22           541322         5786   \n",
       "187452               Vietnam    8/20/22         11382258        43104   \n",
       "187453    West Bank and Gaza    8/20/22           697447         5691   \n",
       "187454  Winter Olympics 2022    8/20/22              535            0   \n",
       "187455                 Yemen    8/20/22            11915         2153   \n",
       "187456                Zambia    8/20/22           332264         4016   \n",
       "187457              Zimbabwe    8/20/22           256616         5592   \n",
       "\n",
       "        Recovered Cases  \n",
       "187438                0  \n",
       "187439                0  \n",
       "187440                0  \n",
       "187441                0  \n",
       "187442                0  \n",
       "187443                0  \n",
       "187444                0  \n",
       "187445                0  \n",
       "187446                0  \n",
       "187447                0  \n",
       "187448                0  \n",
       "187449                0  \n",
       "187450                0  \n",
       "187451                0  \n",
       "187452                0  \n",
       "187453                0  \n",
       "187454                0  \n",
       "187455                0  \n",
       "187456                0  \n",
       "187457                0  "
      ]
     },
     "execution_count": 31,
     "metadata": {},
     "output_type": "execute_result"
    }
   ],
   "source": [
    "merged_df.tail(20)"
   ]
  },
  {
   "cell_type": "markdown",
   "metadata": {},
   "source": [
    "### B) Merge Government Response Data <a class=\"anchor\" id=\"merge-si-data\"></a>"
   ]
  },
  {
   "cell_type": "markdown",
   "metadata": {},
   "source": [
    "For merging the Stringency Index dataset into the Cumulative Data, it is absolutely necessary that the country names match between the two datasets.\n",
    "\n",
    "After running quick comparisons, it is understood that this requires a manual process, for which a further User Story will take care about."
   ]
  },
  {
   "cell_type": "code",
   "execution_count": 32,
   "metadata": {},
   "outputs": [
    {
     "name": "stdout",
     "output_type": "stream",
     "text": [
      "166\n"
     ]
    }
   ],
   "source": [
    "intersection_inner = utils.get_list_inner_outer_join(np.unique(confirmed_df[\"Country/Region\"]),\n",
    "                                                     np.unique(stringency_df[\"country_name\"]),\n",
    "                                                     operation=\"inner\")\n",
    "\n",
    "print(len(intersection_inner))"
   ]
  },
  {
   "cell_type": "code",
   "execution_count": 33,
   "metadata": {},
   "outputs": [
    {
     "name": "stdout",
     "output_type": "stream",
     "text": [
      "54\n"
     ]
    }
   ],
   "source": [
    "intersection_outer = utils.get_list_inner_outer_join(np.unique(confirmed_df[\"Country/Region\"]),\n",
    "                                                     np.unique(stringency_df[\"country_name\"]),\n",
    "                                                     operation=\"outer\")\n",
    "\n",
    "print(len(intersection_outer))"
   ]
  },
  {
   "cell_type": "markdown",
   "metadata": {},
   "source": [
    "By looking at the outer intersection list, it is clear that some countries are named in a different way on the government response dataset. Also, a few countries from Cumulative Data are not present in the Stringency Index data. This will be resolved on a further process step."
   ]
  },
  {
   "cell_type": "code",
   "execution_count": 34,
   "metadata": {},
   "outputs": [
    {
     "data": {
      "text/plain": [
       "['Antarctica',\n",
       " 'Antigua and Barbuda',\n",
       " 'Armenia',\n",
       " 'Aruba',\n",
       " 'Bermuda',\n",
       " 'Burma',\n",
       " 'Cabo Verde',\n",
       " 'Cape Verde',\n",
       " 'Congo',\n",
       " 'Congo (Brazzaville)',\n",
       " 'Congo (Kinshasa)',\n",
       " 'Czech Republic',\n",
       " 'Czechia',\n",
       " 'Democratic Republic of Congo',\n",
       " 'Diamond Princess',\n",
       " 'Equatorial Guinea',\n",
       " 'Faeroe Islands',\n",
       " 'Greenland',\n",
       " 'Guam',\n",
       " 'Guinea-Bissau',\n",
       " 'Holy See',\n",
       " 'Hong Kong',\n",
       " 'Korea, North',\n",
       " 'Korea, South',\n",
       " 'Kyrgyz Republic',\n",
       " 'Kyrgyzstan',\n",
       " 'MS Zaandam',\n",
       " 'Macao',\n",
       " 'Maldives',\n",
       " 'Marshall Islands',\n",
       " 'Micronesia',\n",
       " 'Montenegro',\n",
       " 'Myanmar',\n",
       " 'North Macedonia',\n",
       " 'Palau',\n",
       " 'Palestine',\n",
       " 'Puerto Rico',\n",
       " 'Saint Kitts and Nevis',\n",
       " 'Saint Lucia',\n",
       " 'Saint Vincent and the Grenadines',\n",
       " 'Samoa',\n",
       " 'Sao Tome and Principe',\n",
       " 'Slovak Republic',\n",
       " 'Slovakia',\n",
       " 'South Korea',\n",
       " 'Summer Olympics 2020',\n",
       " 'Taiwan',\n",
       " 'Taiwan*',\n",
       " 'Turkmenistan',\n",
       " 'US',\n",
       " 'United States',\n",
       " 'United States Virgin Islands',\n",
       " 'West Bank and Gaza',\n",
       " 'Winter Olympics 2022']"
      ]
     },
     "execution_count": 34,
     "metadata": {},
     "output_type": "execute_result"
    }
   ],
   "source": [
    "intersection_outer"
   ]
  }
 ],
 "metadata": {
  "kernelspec": {
   "display_name": "Python 3",
   "language": "python",
   "name": "python3"
  },
  "language_info": {
   "codemirror_mode": {
    "name": "ipython",
    "version": 3
   },
   "file_extension": ".py",
   "mimetype": "text/x-python",
   "name": "python",
   "nbconvert_exporter": "python",
   "pygments_lexer": "ipython3",
   "version": "3.7.6"
  }
 },
 "nbformat": 4,
 "nbformat_minor": 5
}
